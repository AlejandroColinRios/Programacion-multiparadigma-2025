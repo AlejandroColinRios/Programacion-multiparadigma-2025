{
  "nbformat": 4,
  "nbformat_minor": 0,
  "metadata": {
    "colab": {
      "provenance": [],
      "authorship_tag": "ABX9TyOCKi5BrLQ4XxmUy9vaEfcP",
      "include_colab_link": true
    },
    "kernelspec": {
      "name": "python3",
      "display_name": "Python 3"
    },
    "language_info": {
      "name": "python"
    }
  },
  "cells": [
    {
      "cell_type": "markdown",
      "metadata": {
        "id": "view-in-github",
        "colab_type": "text"
      },
      "source": [
        "<a href=\"https://colab.research.google.com/github/AlejandroColinRios/Programacion-multiparadigma-2025/blob/main/programa_saludo.ipynb\" target=\"_parent\"><img src=\"https://colab.research.google.com/assets/colab-badge.svg\" alt=\"Open In Colab\"/></a>"
      ]
    },
    {
      "cell_type": "code",
      "execution_count": 1,
      "metadata": {
        "colab": {
          "base_uri": "https://localhost:8080/"
        },
        "id": "FvMcszD1Am0g",
        "outputId": "9f709e9a-85ca-4c43-e00d-08f8940d8935"
      },
      "outputs": [
        {
          "output_type": "stream",
          "name": "stdout",
          "text": [
            "Ingrese su nombre: Alejandro\n",
            "Ingrese su edad: 23\n",
            "Hola Alejandro, tienes 23 años\n"
          ]
        }
      ],
      "source": [
        "# Solicita el nombre y la edad al usuario\n",
        "nombre = input(\"Ingrese su nombre: \")\n",
        "edad = input(\"Ingrese su edad: \")\n",
        "\n",
        "# Muestra el saludo con los datos\n",
        "print(f\"Hola {nombre}, tienes {edad} años\")\n"
      ]
    }
  ]
}